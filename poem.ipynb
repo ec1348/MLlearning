{
  "nbformat": 4,
  "nbformat_minor": 0,
  "metadata": {
    "colab": {
      "name": "poem.ipynb",
      "provenance": [],
      "authorship_tag": "ABX9TyN7OxRY1clktHid7jSIhxUQ",
      "include_colab_link": true
    },
    "kernelspec": {
      "name": "python3",
      "display_name": "Python 3"
    },
    "language_info": {
      "name": "python"
    }
  },
  "cells": [
    {
      "cell_type": "markdown",
      "metadata": {
        "id": "view-in-github",
        "colab_type": "text"
      },
      "source": [
        "<a href=\"https://colab.research.google.com/github/ec1348/MLlearning/blob/main/poem.ipynb\" target=\"_parent\"><img src=\"https://colab.research.google.com/assets/colab-badge.svg\" alt=\"Open In Colab\"/></a>"
      ]
    },
    {
      "cell_type": "code",
      "metadata": {
        "colab": {
          "base_uri": "https://localhost:8080/"
        },
        "id": "6SBMZmWsxqSj",
        "outputId": "0b4621dd-503f-41a0-97e5-f87e710c9596"
      },
      "source": [
        "# prepare data\n",
        "from urllib.request import urlretrieve\n",
        "url = \"https://github.com/Elwing-Chou/ml0602/raw/main/poem_train.csv\"\n",
        "urlretrieve(url, \"train.csv\")\n",
        "url = \"https://github.com/Elwing-Chou/ml0602/raw/main/poem_test.csv\"\n",
        "urlretrieve(url, \"test.csv\")"
      ],
      "execution_count": 28,
      "outputs": [
        {
          "output_type": "execute_result",
          "data": {
            "text/plain": [
              "('test.csv', <http.client.HTTPMessage at 0x7fc995cc95d0>)"
            ]
          },
          "metadata": {
            "tags": []
          },
          "execution_count": 28
        }
      ]
    },
    {
      "cell_type": "code",
      "metadata": {
        "id": "wPIn4E04yh2t"
      },
      "source": [
        "# Read the data\n",
        "import pandas as pd\n",
        "train = pd.read_csv(\"train.csv\", encoding = \"utf-8\")\n",
        "test = pd.read_csv(\"test.csv\", encoding = \"utf-8\")"
      ],
      "execution_count": 29,
      "outputs": []
    },
    {
      "cell_type": "code",
      "metadata": {
        "colab": {
          "base_uri": "https://localhost:8080/"
        },
        "id": "Pw9q5vxazAEI",
        "outputId": "2f7fe2fa-7bea-438a-f470-1e51728c8c28"
      },
      "source": [
        "# 分類: 輸出 0 , 1 , 2, 3\n",
        "# series.replae(字典) \n",
        "# {\"李白\": 0, \"杜甫\", 1, \"白居易\", 2}\n",
        "# unique/value_counts\n",
        "u = train[\"作者\"].unique()\n",
        "name2index = {n:i for i, n in enumerate(u)}\n",
        "index2name = {i:n for i, n in enumerate(u)}\n",
        "print(name2index)\n",
        "y_train = train[\"作者\"].replace(name2index)\n",
        "y_test = test[\"作者\"].replace(name2index)"
      ],
      "execution_count": 30,
      "outputs": [
        {
          "output_type": "stream",
          "text": [
            "{'李白': 0, '杜甫': 1, '白居易': 2}\n"
          ],
          "name": "stdout"
        }
      ]
    },
    {
      "cell_type": "code",
      "metadata": {
        "id": "p2Jb9Iy0hquO"
      },
      "source": [
        "# series.apply(func不加小括號)\n",
        "# !!我做過實驗了, 詩詞分類載入大辭典反而適得其反, 但是普通時候你要載\n",
        "import jieba\n",
        "def poemcut(p):\n",
        "    return \" \".join(jieba.cut(p))\n",
        "x_train = train[\"內容\"].apply(poemcut)\n",
        "x_test = test[\"內容\"].apply(poemcut)\n",
        "x_test"
      ],
      "execution_count": null,
      "outputs": []
    },
    {
      "cell_type": "code",
      "metadata": {
        "colab": {
          "base_uri": "https://localhost:8080/"
        },
        "id": "CLGATeXspfTb",
        "outputId": "259470e9-cc8b-4f14-e7bb-e69d566cd322"
      },
      "source": [
        "from sklearn.feature_extraction.text import CountVectorizer\n",
        "vec = CountVectorizer()\n",
        "vec.fit(x_train)\n",
        "len(vec.vocabulary_)"
      ],
      "execution_count": 32,
      "outputs": [
        {
          "output_type": "execute_result",
          "data": {
            "text/plain": [
              "52294"
            ]
          },
          "metadata": {
            "tags": []
          },
          "execution_count": 32
        }
      ]
    },
    {
      "cell_type": "code",
      "metadata": {
        "colab": {
          "base_uri": "https://localhost:8080/"
        },
        "id": "5aKyYyympi40",
        "outputId": "8796b58c-bda9-446f-cbbd-3a6257618ab0"
      },
      "source": [
        "\n",
        "# fit_transform: 測試資料只做transform\n",
        "# 稀疏矩陣\n",
        "x_train_count = vec.transform(x_train)\n",
        "x_test_count = vec.transform(x_test)\n",
        "x_test_count"
      ],
      "execution_count": 33,
      "outputs": [
        {
          "output_type": "execute_result",
          "data": {
            "text/plain": [
              "<30x52294 sparse matrix of type '<class 'numpy.int64'>'\n",
              "\twith 352 stored elements in Compressed Sparse Row format>"
            ]
          },
          "metadata": {
            "tags": []
          },
          "execution_count": 33
        }
      ]
    }
  ]
}