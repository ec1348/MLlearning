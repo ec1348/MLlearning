{
  "nbformat": 4,
  "nbformat_minor": 0,
  "metadata": {
    "colab": {
      "name": "poem.ipynb",
      "provenance": [],
      "authorship_tag": "ABX9TyPSP6JePQuDBVs8WwvLGmnT",
      "include_colab_link": true
    },
    "kernelspec": {
      "name": "python3",
      "display_name": "Python 3"
    },
    "language_info": {
      "name": "python"
    }
  },
  "cells": [
    {
      "cell_type": "markdown",
      "metadata": {
        "id": "view-in-github",
        "colab_type": "text"
      },
      "source": [
        "<a href=\"https://colab.research.google.com/github/ec1348/MLlearning/blob/main/poem.ipynb\" target=\"_parent\"><img src=\"https://colab.research.google.com/assets/colab-badge.svg\" alt=\"Open In Colab\"/></a>"
      ]
    },
    {
      "cell_type": "code",
      "metadata": {
        "colab": {
          "base_uri": "https://localhost:8080/"
        },
        "id": "6SBMZmWsxqSj",
        "outputId": "50595509-0869-4643-8ca9-fd780008c269"
      },
      "source": [
        "# prepare data\n",
        "from urllib.request import urlretrieve\n",
        "url = \"https://github.com/Elwing-Chou/ml0602/raw/main/poem_train.csv\"\n",
        "urlretrieve(url, \"train.csv\")\n",
        "url = \"https://github.com/Elwing-Chou/ml0602/raw/main/poem_test.csv\"\n",
        "urlretrieve(url, \"test.csv\")"
      ],
      "execution_count": 1,
      "outputs": [
        {
          "output_type": "execute_result",
          "data": {
            "text/plain": [
              "('test.csv', <http.client.HTTPMessage at 0x7fc99a505190>)"
            ]
          },
          "metadata": {
            "tags": []
          },
          "execution_count": 1
        }
      ]
    },
    {
      "cell_type": "code",
      "metadata": {
        "id": "wPIn4E04yh2t"
      },
      "source": [
        "# Read the data\n",
        "import pandas as pd\n",
        "train = pd.read_csv(\"train.csv\", encoding = \"utf-8\")\n",
        "test = pd.read_csv(\"test.csv\", encoding = \"utf-8\")"
      ],
      "execution_count": 2,
      "outputs": []
    },
    {
      "cell_type": "code",
      "metadata": {
        "colab": {
          "base_uri": "https://localhost:8080/"
        },
        "id": "Pw9q5vxazAEI",
        "outputId": "1bf2f8ef-4daa-4577-b108-f6fd679744c6"
      },
      "source": [
        "# 分類: 輸出 0 , 1 , 2, 3\n",
        "# series.replae(字典) \n",
        "# {\"李白\": 0, \"杜甫\", 1, \"白居易\", 2}\n",
        "# unique/value_counts\n",
        "u = train[\"作者\"].unique()\n",
        "# way 1\n",
        "# name2index = {} \n",
        "# for i in range(len(u)):\n",
        "#   name2index[u[i]] = i\n",
        "# way 2 \n",
        "# name2index = {}\n",
        "# for i, n in enumerate(u):\n",
        "#   name2index[n] = i\n",
        "name2index = {n:i for i, n in enumerate(u)}\n",
        "index2name = {i:n for i, n in enumerate(u)}\n",
        "name2index\n",
        "index2name\n",
        "y_train = train[\"作者\"].replace(name2index)\n",
        "y_test = test[\"作者\"].replace(name2index)"
      ],
      "execution_count": 23,
      "outputs": [
        {
          "output_type": "execute_result",
          "data": {
            "text/plain": [
              "0       0\n",
              "1       0\n",
              "2       0\n",
              "3       0\n",
              "4       0\n",
              "       ..\n",
              "2726    2\n",
              "2727    2\n",
              "2728    2\n",
              "2729    2\n",
              "2730    2\n",
              "Name: 作者, Length: 2731, dtype: int64"
            ]
          },
          "metadata": {
            "tags": []
          },
          "execution_count": 23
        }
      ]
    }
  ]
}