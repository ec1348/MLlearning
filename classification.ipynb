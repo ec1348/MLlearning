{
  "nbformat": 4,
  "nbformat_minor": 0,
  "metadata": {
    "colab": {
      "name": "classification.ipynb",
      "provenance": [],
      "authorship_tag": "ABX9TyNZMs8SNfPr1bnRlCtpXksD",
      "include_colab_link": true
    },
    "kernelspec": {
      "name": "python3",
      "display_name": "Python 3"
    },
    "language_info": {
      "name": "python"
    }
  },
  "cells": [
    {
      "cell_type": "markdown",
      "metadata": {
        "id": "view-in-github",
        "colab_type": "text"
      },
      "source": [
        "<a href=\"https://colab.research.google.com/github/ec1348/MLlearning/blob/main/classification.ipynb\" target=\"_parent\"><img src=\"https://colab.research.google.com/assets/colab-badge.svg\" alt=\"Open In Colab\"/></a>"
      ]
    },
    {
      "cell_type": "markdown",
      "metadata": {
        "id": "iyIXJWmmyI5M"
      },
      "source": [
        "#進行分群練習"
      ]
    },
    {
      "cell_type": "code",
      "metadata": {
        "id": "q15dzRM0yBRu"
      },
      "source": [
        "import pandas as pd\n",
        "from sklearn.datasets import load_iris\n",
        "iris = load_iris()\n",
        "# DataFram 是表個 Series 是一行一行\n",
        "df = pd.DataFrame(iris[\"data\"], \n",
        "                  columns = iris[\"feature_names\"])\n",
        "df[\"ans\"] = iris[\"target\"]\n",
        "df.to_csv(\"iris.csv\", encoding=\"utf-8\", index = False)\n",
        "df"
      ],
      "execution_count": null,
      "outputs": []
    },
    {
      "cell_type": "code",
      "metadata": {
        "colab": {
          "base_uri": "https://localhost:8080/"
        },
        "id": "guBN71i2OMgN",
        "outputId": "93cd0f9a-0e44-4bda-c8e5-7fe09f7d4c7d"
      },
      "source": [
        "from sklearn.model_selection import  train_test_split\n",
        "import numpy as np\n",
        "x, y = np.array(df.drop([\"ans\"], axis = 1)), np.array(df[\"ans\"])\n",
        "# 90% x, 10% x, 90% y, 10% y\n",
        "\n",
        "x_train, x_test, y_train, y_test = train_test_split(x, \n",
        "                                                    y,\n",
        "                                                    test_size = 0.1)\n",
        "print(x_train.shape)\n",
        "print(x_test.shape)\n",
        "print(y_train.shape)\n",
        "print(y_test.shape)"
      ],
      "execution_count": 23,
      "outputs": [
        {
          "output_type": "stream",
          "text": [
            "(135, 4)\n",
            "(15, 4)\n",
            "(135,)\n",
            "(15,)\n"
          ],
          "name": "stdout"
        }
      ]
    }
  ]
}