{
  "nbformat": 4,
  "nbformat_minor": 0,
  "metadata": {
    "colab": {
      "name": "nb_preprocess.ipynb",
      "provenance": [],
      "authorship_tag": "ABX9TyMYCeUe1zDHIHVGq4SwPRj7",
      "include_colab_link": true
    },
    "kernelspec": {
      "name": "python3",
      "display_name": "Python 3"
    },
    "language_info": {
      "name": "python"
    }
  },
  "cells": [
    {
      "cell_type": "markdown",
      "metadata": {
        "id": "view-in-github",
        "colab_type": "text"
      },
      "source": [
        "<a href=\"https://colab.research.google.com/github/ec1348/MLlearning/blob/main/nb_preprocess.ipynb\" target=\"_parent\"><img src=\"https://colab.research.google.com/assets/colab-badge.svg\" alt=\"Open In Colab\"/></a>"
      ]
    },
    {
      "cell_type": "code",
      "metadata": {
        "id": "u7-NUUdFWvL-"
      },
      "source": [
        "!pip install opencc-python-reimplemented"
      ],
      "execution_count": null,
      "outputs": []
    },
    {
      "cell_type": "code",
      "metadata": {
        "id": "qWHF__XnYMTV"
      },
      "source": [
        "to_convert = '开放中文转换'"
      ],
      "execution_count": 3,
      "outputs": []
    },
    {
      "cell_type": "code",
      "metadata": {
        "id": "PS5szfPrXTlZ"
      },
      "source": [
        "from opencc import OpenCC\n",
        "cc = OpenCC('s2tw')\n",
        "converted = cc.convert(to_convert)\n",
        "converted"
      ],
      "execution_count": null,
      "outputs": []
    },
    {
      "cell_type": "code",
      "metadata": {
        "id": "ok8T6WujdqYw"
      },
      "source": [
        "with open(\"news.txt\", \"r\", encoding=\"utf-8\") as f:\n",
        "  content = f.read()\n",
        "content"
      ],
      "execution_count": null,
      "outputs": []
    },
    {
      "cell_type": "code",
      "metadata": {
        "colab": {
          "base_uri": "https://localhost:8080/"
        },
        "id": "TuJaGxaighPb",
        "outputId": "d61d4a42-52fb-42c4-8f0c-a8be2954c69d"
      },
      "source": [
        "import jieba.analyse\n",
        "print(jieba.analyse.extract_tags(content))\n",
        "print(jieba.analyse.extract_tags(content, topK = 5, allowPOS=[\"ns\", \"nr\"]))"
      ],
      "execution_count": 15,
      "outputs": [
        {
          "output_type": "stream",
          "text": [
            "['法國', '民眾', '克宏', '攻擊', '握手', '男子', '暴力', '紛紛', '譴責', '傷害', '報導', '新冠', '民主', '一名', '巴掌', '疫情', '被捕', '2021', '週三', '17']\n",
            "['馬克宏', '法國', '巴掌', '週三', '戚海倫']\n"
          ],
          "name": "stdout"
        }
      ]
    }
  ]
}