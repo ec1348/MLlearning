{
  "nbformat": 4,
  "nbformat_minor": 0,
  "metadata": {
    "colab": {
      "name": "nb_preprocess.ipynb",
      "provenance": [],
      "authorship_tag": "ABX9TyOL/KQLzjFcyV8JALpLcpxw",
      "include_colab_link": true
    },
    "kernelspec": {
      "name": "python3",
      "display_name": "Python 3"
    },
    "language_info": {
      "name": "python"
    }
  },
  "cells": [
    {
      "cell_type": "markdown",
      "metadata": {
        "id": "view-in-github",
        "colab_type": "text"
      },
      "source": [
        "<a href=\"https://colab.research.google.com/github/ec1348/MLlearning/blob/main/nb_preprocess.ipynb\" target=\"_parent\"><img src=\"https://colab.research.google.com/assets/colab-badge.svg\" alt=\"Open In Colab\"/></a>"
      ]
    },
    {
      "cell_type": "code",
      "metadata": {
        "id": "u7-NUUdFWvL-"
      },
      "source": [
        "!pip install opencc-python-reimplemented"
      ],
      "execution_count": null,
      "outputs": []
    },
    {
      "cell_type": "code",
      "metadata": {
        "id": "qWHF__XnYMTV"
      },
      "source": [
        "to_convert = '开放中文转换'"
      ],
      "execution_count": 3,
      "outputs": []
    },
    {
      "cell_type": "code",
      "metadata": {
        "id": "PS5szfPrXTlZ"
      },
      "source": [
        "from opencc import OpenCC\n",
        "cc = OpenCC('s2tw')\n",
        "converted = cc.convert(to_convert)\n",
        "converted"
      ],
      "execution_count": null,
      "outputs": []
    },
    {
      "cell_type": "code",
      "metadata": {
        "id": "ok8T6WujdqYw"
      },
      "source": [
        "with open(\"news.txt\", \"r\", encoding=\"utf-8\") as f:\n",
        "  content = f.read()\n",
        "content"
      ],
      "execution_count": null,
      "outputs": []
    },
    {
      "cell_type": "code",
      "metadata": {
        "colab": {
          "base_uri": "https://localhost:8080/"
        },
        "id": "TuJaGxaighPb",
        "outputId": "d61d4a42-52fb-42c4-8f0c-a8be2954c69d"
      },
      "source": [
        "import jieba.analyse\n",
        "print(jieba.analyse.extract_tags(content))\n",
        "print(jieba.analyse.extract_tags(content, topK = 5, allowPOS=[\"ns\", \"nr\"]))"
      ],
      "execution_count": 15,
      "outputs": [
        {
          "output_type": "stream",
          "text": [
            "['法國', '民眾', '克宏', '攻擊', '握手', '男子', '暴力', '紛紛', '譴責', '傷害', '報導', '新冠', '民主', '一名', '巴掌', '疫情', '被捕', '2021', '週三', '17']\n",
            "['馬克宏', '法國', '巴掌', '週三', '戚海倫']\n"
          ],
          "name": "stdout"
        }
      ]
    },
    {
      "cell_type": "code",
      "metadata": {
        "colab": {
          "base_uri": "https://localhost:8080/"
        },
        "id": "yuGxexJ9pMhA",
        "outputId": "ffe53572-ebae-44af-d708-1e64a12b5da3"
      },
      "source": [
        "import jieba\n",
        "from urllib.request import urlretrieve\n",
        "url = \"https://github.com/fxsjy/jieba/raw/master/extra_dict/dict.txt.big\"\n",
        "urlretrieve(url, \"dict.txt.big\")"
      ],
      "execution_count": 16,
      "outputs": [
        {
          "output_type": "execute_result",
          "data": {
            "text/plain": [
              "('dict.txt.big', <http.client.HTTPMessage at 0x7fbd4cccf610>)"
            ]
          },
          "metadata": {
            "tags": []
          },
          "execution_count": 16
        }
      ]
    },
    {
      "cell_type": "code",
      "metadata": {
        "colab": {
          "base_uri": "https://localhost:8080/"
        },
        "id": "ZZ0lxSKvp7T4",
        "outputId": "d9685d8e-35d1-4b47-ff70-ccd22959d2cd"
      },
      "source": [
        "# 使用原字典(小)，發現準確度不令人滿意\n",
        "c=\" \".join(jieba.cut(content))\n",
        "print(c)\n",
        "print(\"=\"*30)\n",
        "# 載入大字典增加準確度\n",
        "jieba.set_dictionary(\"dict.txt.big\")\n",
        "c=\" \".join(jieba.cut(content))\n",
        "print(c)"
      ],
      "execution_count": 22,
      "outputs": [
        {
          "output_type": "stream",
          "text": [
            "Building prefix dict from /content/dict.txt.big ...\n",
            "Loading model from cache /tmp/jieba.u501edca284da514cb68b53a20324f4e3.cache\n"
          ],
          "name": "stderr"
        },
        {
          "output_type": "stream",
          "text": [
            "﻿ 2021 年 6 月 9 日   週三   上午 6 : 17 · 2   分鐘   ( 閱讀 時間 ) \n",
            " 法國 總統 馬克 宏 最近 展開 下鄉 行程 ， 不料 在 南法 路邊 和民眾 握手 時 ， 竟然 遭人呼 巴掌 。 對此 ， 政治 領袖 紛紛 譴責 暴力 、 傷害 民主 。 ( 特約記者 戚 海倫 報導 ) \n",
            " \n",
            " 法國 總統 馬克 宏 訪問 法國 東南部 的 德龍省 ， 他 到 餐旅 學校 視察 ， 暢談 日常生活 如何 在 新冠 疫情 後 恢復正常 軌道 。 在 路邊 和民眾 握手 時 ， 一名 身穿 綠色 T恤 、 戴著 眼鏡 和 口罩 的 男子 ， 隔著 欄杆 ， 突然 趁 和 馬克 宏 握手 時呼 他 巴掌 ， 同時 高呼 馬克 宏 下台 。 \n",
            " \n",
            " 男子 隨後 遭到 馬克 宏隨扈 壓制 在 地 ， 另外 還有 一名 男子 被捕 。 馬克 宏 似乎 不 受 影響 ， 繼續 與民眾 握手 。 上週 開始 馬克 宏 展開 為期 六個 星期 的 全國 傾聽 之旅 ， 他 的 民調 下挫 ， 原因 是 處理 新冠 疫情 不當 ， 加上 民眾 對於 恐怖 攻擊 的 擔憂 加重 。 \n",
            " \n",
            " 被捕 的 一名 男子 自稱 是 無政府主義 者 。 法國 媒體 報導 ， 有 兩名 28 歲 青年 ， 被 以 「 蓄意 傷害 公權力 代表人 」 罪名 拘留 在 看守所 。 法國 總統府 證實 有人 意圖 攻擊 馬克 宏 ， 但 馬克 宏 沒有 受到 重傷 。 法國 跨 黨派 人士 紛紛 發聲 ， 譴責 暴力 。 總理 卡斯 特克斯 說 ， 這次 事件 是 對 民主 政治 的 一種 侮辱 ， 無論如何 民主 都 不 可以 是 暴力 或 言語 攻擊 ， 更 不能 是 肢體 攻擊 。\n",
            "==============================\n"
          ],
          "name": "stdout"
        },
        {
          "output_type": "stream",
          "text": [
            "Loading model cost 1.580 seconds.\n",
            "Prefix dict has been built successfully.\n"
          ],
          "name": "stderr"
        },
        {
          "output_type": "stream",
          "text": [
            "﻿ 2021 年 6 月 9 日   週三   上午 6 : 17 · 2   分鐘   ( 閱讀 時間 ) \n",
            " 法國 總統 馬克 宏 最近 展開 下鄉 行程 ， 不料 在 南法 路邊 和民眾 握手 時 ， 竟然 遭人呼 巴掌 。 對此 ， 政治 領袖 紛紛 譴責 暴力 、 傷害 民主 。 ( 特約記者 戚 海倫 報導 ) \n",
            " \n",
            " 法國 總統 馬克 宏 訪問 法國 東南部 的 德龍省 ， 他 到 餐旅 學校 視察 ， 暢談 日常生活 如何 在 新冠 疫情 後 恢復正常 軌道 。 在 路邊 和民眾 握手 時 ， 一名 身穿 綠色 T恤 、 戴著 眼鏡 和 口罩 的 男子 ， 隔著 欄杆 ， 突然 趁 和 馬克 宏 握手 時呼 他 巴掌 ， 同時 高呼 馬克 宏 下台 。 \n",
            " \n",
            " 男子 隨後 遭到 馬克 宏隨扈 壓制 在 地 ， 另外 還有 一名 男子 被捕 。 馬克 宏 似乎 不 受 影響 ， 繼續 與民眾 握手 。 上週 開始 馬克 宏 展開 為期 六個 星期 的 全國 傾聽 之旅 ， 他 的 民調 下挫 ， 原因 是 處理 新冠 疫情 不當 ， 加上 民眾 對於 恐怖 攻擊 的 擔憂 加重 。 \n",
            " \n",
            " 被捕 的 一名 男子 自稱 是 無政府主義 者 。 法國 媒體 報導 ， 有 兩名 28 歲 青年 ， 被 以 「 蓄意 傷害 公權力 代表人 」 罪名 拘留 在 看守所 。 法國 總統府 證實 有人 意圖 攻擊 馬克 宏 ， 但 馬克 宏 沒有 受到 重傷 。 法國 跨 黨派 人士 紛紛 發聲 ， 譴責 暴力 。 總理 卡斯 特克斯 說 ， 這次 事件 是 對 民主 政治 的 一種 侮辱 ， 無論如何 民主 都 不 可以 是 暴力 或 言語 攻擊 ， 更 不能 是 肢體 攻擊 。\n"
          ],
          "name": "stdout"
        }
      ]
    },
    {
      "cell_type": "code",
      "metadata": {
        "colab": {
          "base_uri": "https://localhost:8080/"
        },
        "id": "egCVbhHwrdU4",
        "outputId": "4ae54761-18ff-4f30-c4d9-399fbd6a2033"
      },
      "source": [
        "# 載入自定義字典\n",
        "jieba.load_userdict(\"sefDef.txt\")\n",
        "c = \" \".join(jieba.cut(content))\n",
        "print(c)"
      ],
      "execution_count": 24,
      "outputs": [
        {
          "output_type": "stream",
          "text": [
            "﻿ 2021 年 6 月 9 日   週三   上午 6 : 17 · 2   分鐘   ( 閱讀 時間 ) \n",
            " 法國 總統 馬克宏 最近 展開 下鄉 行程 ， 不料 在 南法 路邊 和民眾 握手 時 ， 竟然 遭人呼 巴掌 。 對此 ， 政治 領袖 紛紛 譴責 暴力 、 傷害 民主 。 ( 特約記者 戚海倫 報導 ) \n",
            " \n",
            " 法國 總統 馬克宏 訪問 法國 東南部 的 德龍省 ， 他 到 餐旅 學校 視察 ， 暢談 日常生活 如何 在 新冠 疫情 後 恢復正常 軌道 。 在 路邊 和民眾 握手 時 ， 一名 身穿 綠色 T恤 、 戴著 眼鏡 和 口罩 的 男子 ， 隔著 欄杆 ， 突然 趁 和 馬克宏 握手 時呼 他 巴掌 ， 同時 高呼 馬克宏 下台 。 \n",
            " \n",
            " 男子 隨後 遭到 馬克宏 隨扈 壓制 在 地 ， 另外 還有 一名 男子 被捕 。 馬克宏 似乎 不 受 影響 ， 繼續 與民眾 握手 。 上週 開始 馬克宏 展開 為期 六個 星期 的 全國 傾聽 之旅 ， 他 的 民調 下挫 ， 原因 是 處理 新冠 疫情 不當 ， 加上 民眾 對於 恐怖 攻擊 的 擔憂 加重 。 \n",
            " \n",
            " 被捕 的 一名 男子 自稱 是 無政府主義 者 。 法國 媒體 報導 ， 有 兩名 28 歲 青年 ， 被 以 「 蓄意 傷害 公權力 代表人 」 罪名 拘留 在 看守所 。 法國 總統府 證實 有人 意圖 攻擊 馬克宏 ， 但 馬克宏 沒有 受到 重傷 。 法國 跨 黨派 人士 紛紛 發聲 ， 譴責 暴力 。 總理 卡斯 特克斯 說 ， 這次 事件 是 對 民主 政治 的 一種 侮辱 ， 無論如何 民主 都 不 可以 是 暴力 或 言語 攻擊 ， 更 不能 是 肢體 攻擊 。\n"
          ],
          "name": "stdout"
        }
      ]
    },
    {
      "cell_type": "code",
      "metadata": {
        "colab": {
          "base_uri": "https://localhost:8080/"
        },
        "id": "89g5hEIGskZH",
        "outputId": "f8a7b95b-b520-44e9-8c58-2a081704eaa9"
      },
      "source": [
        "print(jieba.analyse.extract_tags(content))"
      ],
      "execution_count": 25,
      "outputs": [
        {
          "output_type": "stream",
          "text": [
            "['馬克宏', '法國', '攻擊', '握手', '男子', '暴力', '總統', '展開', '路邊', '和民眾', '紛紛', '譴責', '傷害', '報導', '新冠', '民主', '一名', '巴掌', '疫情', '被捕']\n"
          ],
          "name": "stdout"
        }
      ]
    }
  ]
}